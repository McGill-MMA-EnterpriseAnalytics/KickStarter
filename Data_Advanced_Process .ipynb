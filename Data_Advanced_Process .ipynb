{
  "nbformat": 4,
  "nbformat_minor": 0,
  "metadata": {
    "colab": {
      "provenance": []
    },
    "kernelspec": {
      "name": "python3",
      "display_name": "Python 3"
    },
    "language_info": {
      "name": "python"
    }
  },
  "cells": [
    {
      "cell_type": "code",
      "source": [
        "pip install mlflow"
      ],
      "metadata": {
        "colab": {
          "base_uri": "https://localhost:8080/"
        },
        "id": "g0hjY3JDZQNI",
        "outputId": "8c7eda4b-3cce-4a85-82fb-1c61f18200ec"
      },
      "execution_count": 1,
      "outputs": [
        {
          "output_type": "stream",
          "name": "stdout",
          "text": [
            "Collecting mlflow\n",
            "  Downloading mlflow-2.22.0-py3-none-any.whl.metadata (30 kB)\n",
            "Collecting mlflow-skinny==2.22.0 (from mlflow)\n",
            "  Downloading mlflow_skinny-2.22.0-py3-none-any.whl.metadata (31 kB)\n",
            "Requirement already satisfied: Flask<4 in /usr/local/lib/python3.11/dist-packages (from mlflow) (3.1.0)\n",
            "Requirement already satisfied: Jinja2<4,>=2.11 in /usr/local/lib/python3.11/dist-packages (from mlflow) (3.1.6)\n",
            "Collecting alembic!=1.10.0,<2 (from mlflow)\n",
            "  Downloading alembic-1.15.2-py3-none-any.whl.metadata (7.3 kB)\n",
            "Collecting docker<8,>=4.0.0 (from mlflow)\n",
            "  Downloading docker-7.1.0-py3-none-any.whl.metadata (3.8 kB)\n",
            "Collecting graphene<4 (from mlflow)\n",
            "  Downloading graphene-3.4.3-py2.py3-none-any.whl.metadata (6.9 kB)\n",
            "Collecting gunicorn<24 (from mlflow)\n",
            "  Downloading gunicorn-23.0.0-py3-none-any.whl.metadata (4.4 kB)\n",
            "Requirement already satisfied: markdown<4,>=3.3 in /usr/local/lib/python3.11/dist-packages (from mlflow) (3.8)\n",
            "Requirement already satisfied: matplotlib<4 in /usr/local/lib/python3.11/dist-packages (from mlflow) (3.10.0)\n",
            "Requirement already satisfied: numpy<3 in /usr/local/lib/python3.11/dist-packages (from mlflow) (2.0.2)\n",
            "Requirement already satisfied: pandas<3 in /usr/local/lib/python3.11/dist-packages (from mlflow) (2.2.2)\n",
            "Requirement already satisfied: pyarrow<20,>=4.0.0 in /usr/local/lib/python3.11/dist-packages (from mlflow) (18.1.0)\n",
            "Requirement already satisfied: scikit-learn<2 in /usr/local/lib/python3.11/dist-packages (from mlflow) (1.6.1)\n",
            "Requirement already satisfied: scipy<2 in /usr/local/lib/python3.11/dist-packages (from mlflow) (1.14.1)\n",
            "Requirement already satisfied: sqlalchemy<3,>=1.4.0 in /usr/local/lib/python3.11/dist-packages (from mlflow) (2.0.40)\n",
            "Requirement already satisfied: cachetools<6,>=5.0.0 in /usr/local/lib/python3.11/dist-packages (from mlflow-skinny==2.22.0->mlflow) (5.5.2)\n",
            "Requirement already satisfied: click<9,>=7.0 in /usr/local/lib/python3.11/dist-packages (from mlflow-skinny==2.22.0->mlflow) (8.1.8)\n",
            "Requirement already satisfied: cloudpickle<4 in /usr/local/lib/python3.11/dist-packages (from mlflow-skinny==2.22.0->mlflow) (3.1.1)\n",
            "Collecting databricks-sdk<1,>=0.20.0 (from mlflow-skinny==2.22.0->mlflow)\n",
            "  Downloading databricks_sdk-0.50.0-py3-none-any.whl.metadata (38 kB)\n",
            "Collecting fastapi<1 (from mlflow-skinny==2.22.0->mlflow)\n",
            "  Downloading fastapi-0.115.12-py3-none-any.whl.metadata (27 kB)\n",
            "Requirement already satisfied: gitpython<4,>=3.1.9 in /usr/local/lib/python3.11/dist-packages (from mlflow-skinny==2.22.0->mlflow) (3.1.44)\n",
            "Requirement already satisfied: importlib_metadata!=4.7.0,<9,>=3.7.0 in /usr/local/lib/python3.11/dist-packages (from mlflow-skinny==2.22.0->mlflow) (8.6.1)\n",
            "Requirement already satisfied: opentelemetry-api<3,>=1.9.0 in /usr/local/lib/python3.11/dist-packages (from mlflow-skinny==2.22.0->mlflow) (1.32.1)\n",
            "Requirement already satisfied: opentelemetry-sdk<3,>=1.9.0 in /usr/local/lib/python3.11/dist-packages (from mlflow-skinny==2.22.0->mlflow) (1.32.1)\n",
            "Requirement already satisfied: packaging<25 in /usr/local/lib/python3.11/dist-packages (from mlflow-skinny==2.22.0->mlflow) (24.2)\n",
            "Requirement already satisfied: protobuf<7,>=3.12.0 in /usr/local/lib/python3.11/dist-packages (from mlflow-skinny==2.22.0->mlflow) (5.29.4)\n",
            "Requirement already satisfied: pydantic<3,>=1.10.8 in /usr/local/lib/python3.11/dist-packages (from mlflow-skinny==2.22.0->mlflow) (2.11.3)\n",
            "Requirement already satisfied: pyyaml<7,>=5.1 in /usr/local/lib/python3.11/dist-packages (from mlflow-skinny==2.22.0->mlflow) (6.0.2)\n",
            "Requirement already satisfied: requests<3,>=2.17.3 in /usr/local/lib/python3.11/dist-packages (from mlflow-skinny==2.22.0->mlflow) (2.32.3)\n",
            "Requirement already satisfied: sqlparse<1,>=0.4.0 in /usr/local/lib/python3.11/dist-packages (from mlflow-skinny==2.22.0->mlflow) (0.5.3)\n",
            "Requirement already satisfied: typing-extensions<5,>=4.0.0 in /usr/local/lib/python3.11/dist-packages (from mlflow-skinny==2.22.0->mlflow) (4.13.2)\n",
            "Collecting uvicorn<1 (from mlflow-skinny==2.22.0->mlflow)\n",
            "  Downloading uvicorn-0.34.2-py3-none-any.whl.metadata (6.5 kB)\n",
            "Requirement already satisfied: Mako in /usr/lib/python3/dist-packages (from alembic!=1.10.0,<2->mlflow) (1.1.3)\n",
            "Requirement already satisfied: urllib3>=1.26.0 in /usr/local/lib/python3.11/dist-packages (from docker<8,>=4.0.0->mlflow) (2.3.0)\n",
            "Requirement already satisfied: Werkzeug>=3.1 in /usr/local/lib/python3.11/dist-packages (from Flask<4->mlflow) (3.1.3)\n",
            "Requirement already satisfied: itsdangerous>=2.2 in /usr/local/lib/python3.11/dist-packages (from Flask<4->mlflow) (2.2.0)\n",
            "Requirement already satisfied: blinker>=1.9 in /usr/local/lib/python3.11/dist-packages (from Flask<4->mlflow) (1.9.0)\n",
            "Collecting graphql-core<3.3,>=3.1 (from graphene<4->mlflow)\n",
            "  Downloading graphql_core-3.2.6-py3-none-any.whl.metadata (11 kB)\n",
            "Collecting graphql-relay<3.3,>=3.1 (from graphene<4->mlflow)\n",
            "  Downloading graphql_relay-3.2.0-py3-none-any.whl.metadata (12 kB)\n",
            "Requirement already satisfied: python-dateutil<3,>=2.7.0 in /usr/local/lib/python3.11/dist-packages (from graphene<4->mlflow) (2.8.2)\n",
            "Requirement already satisfied: MarkupSafe>=2.0 in /usr/local/lib/python3.11/dist-packages (from Jinja2<4,>=2.11->mlflow) (3.0.2)\n",
            "Requirement already satisfied: contourpy>=1.0.1 in /usr/local/lib/python3.11/dist-packages (from matplotlib<4->mlflow) (1.3.2)\n",
            "Requirement already satisfied: cycler>=0.10 in /usr/local/lib/python3.11/dist-packages (from matplotlib<4->mlflow) (0.12.1)\n",
            "Requirement already satisfied: fonttools>=4.22.0 in /usr/local/lib/python3.11/dist-packages (from matplotlib<4->mlflow) (4.57.0)\n",
            "Requirement already satisfied: kiwisolver>=1.3.1 in /usr/local/lib/python3.11/dist-packages (from matplotlib<4->mlflow) (1.4.8)\n",
            "Requirement already satisfied: pillow>=8 in /usr/local/lib/python3.11/dist-packages (from matplotlib<4->mlflow) (11.1.0)\n",
            "Requirement already satisfied: pyparsing>=2.3.1 in /usr/local/lib/python3.11/dist-packages (from matplotlib<4->mlflow) (3.2.3)\n",
            "Requirement already satisfied: pytz>=2020.1 in /usr/local/lib/python3.11/dist-packages (from pandas<3->mlflow) (2025.2)\n",
            "Requirement already satisfied: tzdata>=2022.7 in /usr/local/lib/python3.11/dist-packages (from pandas<3->mlflow) (2025.2)\n",
            "Requirement already satisfied: joblib>=1.2.0 in /usr/local/lib/python3.11/dist-packages (from scikit-learn<2->mlflow) (1.4.2)\n",
            "Requirement already satisfied: threadpoolctl>=3.1.0 in /usr/local/lib/python3.11/dist-packages (from scikit-learn<2->mlflow) (3.6.0)\n",
            "Requirement already satisfied: greenlet>=1 in /usr/local/lib/python3.11/dist-packages (from sqlalchemy<3,>=1.4.0->mlflow) (3.2.1)\n",
            "Requirement already satisfied: google-auth~=2.0 in /usr/local/lib/python3.11/dist-packages (from databricks-sdk<1,>=0.20.0->mlflow-skinny==2.22.0->mlflow) (2.38.0)\n",
            "Collecting starlette<0.47.0,>=0.40.0 (from fastapi<1->mlflow-skinny==2.22.0->mlflow)\n",
            "  Downloading starlette-0.46.2-py3-none-any.whl.metadata (6.2 kB)\n",
            "Requirement already satisfied: gitdb<5,>=4.0.1 in /usr/local/lib/python3.11/dist-packages (from gitpython<4,>=3.1.9->mlflow-skinny==2.22.0->mlflow) (4.0.12)\n",
            "Requirement already satisfied: zipp>=3.20 in /usr/local/lib/python3.11/dist-packages (from importlib_metadata!=4.7.0,<9,>=3.7.0->mlflow-skinny==2.22.0->mlflow) (3.21.0)\n",
            "Requirement already satisfied: deprecated>=1.2.6 in /usr/local/lib/python3.11/dist-packages (from opentelemetry-api<3,>=1.9.0->mlflow-skinny==2.22.0->mlflow) (1.2.18)\n",
            "Requirement already satisfied: opentelemetry-semantic-conventions==0.53b1 in /usr/local/lib/python3.11/dist-packages (from opentelemetry-sdk<3,>=1.9.0->mlflow-skinny==2.22.0->mlflow) (0.53b1)\n",
            "Requirement already satisfied: annotated-types>=0.6.0 in /usr/local/lib/python3.11/dist-packages (from pydantic<3,>=1.10.8->mlflow-skinny==2.22.0->mlflow) (0.7.0)\n",
            "Requirement already satisfied: pydantic-core==2.33.1 in /usr/local/lib/python3.11/dist-packages (from pydantic<3,>=1.10.8->mlflow-skinny==2.22.0->mlflow) (2.33.1)\n",
            "Requirement already satisfied: typing-inspection>=0.4.0 in /usr/local/lib/python3.11/dist-packages (from pydantic<3,>=1.10.8->mlflow-skinny==2.22.0->mlflow) (0.4.0)\n",
            "Requirement already satisfied: six>=1.5 in /usr/local/lib/python3.11/dist-packages (from python-dateutil<3,>=2.7.0->graphene<4->mlflow) (1.17.0)\n",
            "Requirement already satisfied: charset-normalizer<4,>=2 in /usr/local/lib/python3.11/dist-packages (from requests<3,>=2.17.3->mlflow-skinny==2.22.0->mlflow) (3.4.1)\n",
            "Requirement already satisfied: idna<4,>=2.5 in /usr/local/lib/python3.11/dist-packages (from requests<3,>=2.17.3->mlflow-skinny==2.22.0->mlflow) (3.10)\n",
            "Requirement already satisfied: certifi>=2017.4.17 in /usr/local/lib/python3.11/dist-packages (from requests<3,>=2.17.3->mlflow-skinny==2.22.0->mlflow) (2025.1.31)\n",
            "Requirement already satisfied: h11>=0.8 in /usr/local/lib/python3.11/dist-packages (from uvicorn<1->mlflow-skinny==2.22.0->mlflow) (0.14.0)\n",
            "Requirement already satisfied: wrapt<2,>=1.10 in /usr/local/lib/python3.11/dist-packages (from deprecated>=1.2.6->opentelemetry-api<3,>=1.9.0->mlflow-skinny==2.22.0->mlflow) (1.17.2)\n",
            "Requirement already satisfied: smmap<6,>=3.0.1 in /usr/local/lib/python3.11/dist-packages (from gitdb<5,>=4.0.1->gitpython<4,>=3.1.9->mlflow-skinny==2.22.0->mlflow) (5.0.2)\n",
            "Requirement already satisfied: pyasn1-modules>=0.2.1 in /usr/local/lib/python3.11/dist-packages (from google-auth~=2.0->databricks-sdk<1,>=0.20.0->mlflow-skinny==2.22.0->mlflow) (0.4.2)\n",
            "Requirement already satisfied: rsa<5,>=3.1.4 in /usr/local/lib/python3.11/dist-packages (from google-auth~=2.0->databricks-sdk<1,>=0.20.0->mlflow-skinny==2.22.0->mlflow) (4.9.1)\n",
            "Requirement already satisfied: anyio<5,>=3.6.2 in /usr/local/lib/python3.11/dist-packages (from starlette<0.47.0,>=0.40.0->fastapi<1->mlflow-skinny==2.22.0->mlflow) (4.9.0)\n",
            "Requirement already satisfied: sniffio>=1.1 in /usr/local/lib/python3.11/dist-packages (from anyio<5,>=3.6.2->starlette<0.47.0,>=0.40.0->fastapi<1->mlflow-skinny==2.22.0->mlflow) (1.3.1)\n",
            "Requirement already satisfied: pyasn1<0.7.0,>=0.6.1 in /usr/local/lib/python3.11/dist-packages (from pyasn1-modules>=0.2.1->google-auth~=2.0->databricks-sdk<1,>=0.20.0->mlflow-skinny==2.22.0->mlflow) (0.6.1)\n",
            "Downloading mlflow-2.22.0-py3-none-any.whl (29.0 MB)\n",
            "\u001b[2K   \u001b[90m━━━━━━━━━━━━━━━━━━━━━━━━━━━━━━━━━━━━━━━━\u001b[0m \u001b[32m29.0/29.0 MB\u001b[0m \u001b[31m35.0 MB/s\u001b[0m eta \u001b[36m0:00:00\u001b[0m\n",
            "\u001b[?25hDownloading mlflow_skinny-2.22.0-py3-none-any.whl (6.3 MB)\n",
            "\u001b[2K   \u001b[90m━━━━━━━━━━━━━━━━━━━━━━━━━━━━━━━━━━━━━━━━\u001b[0m \u001b[32m6.3/6.3 MB\u001b[0m \u001b[31m19.1 MB/s\u001b[0m eta \u001b[36m0:00:00\u001b[0m\n",
            "\u001b[?25hDownloading alembic-1.15.2-py3-none-any.whl (231 kB)\n",
            "\u001b[2K   \u001b[90m━━━━━━━━━━━━━━━━━━━━━━━━━━━━━━━━━━━━━━━━\u001b[0m \u001b[32m231.9/231.9 kB\u001b[0m \u001b[31m9.6 MB/s\u001b[0m eta \u001b[36m0:00:00\u001b[0m\n",
            "\u001b[?25hDownloading docker-7.1.0-py3-none-any.whl (147 kB)\n",
            "\u001b[2K   \u001b[90m━━━━━━━━━━━━━━━━━━━━━━━━━━━━━━━━━━━━━━━━\u001b[0m \u001b[32m147.8/147.8 kB\u001b[0m \u001b[31m7.3 MB/s\u001b[0m eta \u001b[36m0:00:00\u001b[0m\n",
            "\u001b[?25hDownloading graphene-3.4.3-py2.py3-none-any.whl (114 kB)\n",
            "\u001b[2K   \u001b[90m━━━━━━━━━━━━━━━━━━━━━━━━━━━━━━━━━━━━━━━━\u001b[0m \u001b[32m114.9/114.9 kB\u001b[0m \u001b[31m6.4 MB/s\u001b[0m eta \u001b[36m0:00:00\u001b[0m\n",
            "\u001b[?25hDownloading gunicorn-23.0.0-py3-none-any.whl (85 kB)\n",
            "\u001b[2K   \u001b[90m━━━━━━━━━━━━━━━━━━━━━━━━━━━━━━━━━━━━━━━━\u001b[0m \u001b[32m85.0/85.0 kB\u001b[0m \u001b[31m4.6 MB/s\u001b[0m eta \u001b[36m0:00:00\u001b[0m\n",
            "\u001b[?25hDownloading databricks_sdk-0.50.0-py3-none-any.whl (692 kB)\n",
            "\u001b[2K   \u001b[90m━━━━━━━━━━━━━━━━━━━━━━━━━━━━━━━━━━━━━━━━\u001b[0m \u001b[32m692.3/692.3 kB\u001b[0m \u001b[31m28.6 MB/s\u001b[0m eta \u001b[36m0:00:00\u001b[0m\n",
            "\u001b[?25hDownloading fastapi-0.115.12-py3-none-any.whl (95 kB)\n",
            "\u001b[2K   \u001b[90m━━━━━━━━━━━━━━━━━━━━━━━━━━━━━━━━━━━━━━━━\u001b[0m \u001b[32m95.2/95.2 kB\u001b[0m \u001b[31m5.5 MB/s\u001b[0m eta \u001b[36m0:00:00\u001b[0m\n",
            "\u001b[?25hDownloading graphql_core-3.2.6-py3-none-any.whl (203 kB)\n",
            "\u001b[2K   \u001b[90m━━━━━━━━━━━━━━━━━━━━━━━━━━━━━━━━━━━━━━━━\u001b[0m \u001b[32m203.4/203.4 kB\u001b[0m \u001b[31m12.0 MB/s\u001b[0m eta \u001b[36m0:00:00\u001b[0m\n",
            "\u001b[?25hDownloading graphql_relay-3.2.0-py3-none-any.whl (16 kB)\n",
            "Downloading uvicorn-0.34.2-py3-none-any.whl (62 kB)\n",
            "\u001b[2K   \u001b[90m━━━━━━━━━━━━━━━━━━━━━━━━━━━━━━━━━━━━━━━━\u001b[0m \u001b[32m62.5/62.5 kB\u001b[0m \u001b[31m946.8 kB/s\u001b[0m eta \u001b[36m0:00:00\u001b[0m\n",
            "\u001b[?25hDownloading starlette-0.46.2-py3-none-any.whl (72 kB)\n",
            "\u001b[2K   \u001b[90m━━━━━━━━━━━━━━━━━━━━━━━━━━━━━━━━━━━━━━━━\u001b[0m \u001b[32m72.0/72.0 kB\u001b[0m \u001b[31m4.8 MB/s\u001b[0m eta \u001b[36m0:00:00\u001b[0m\n",
            "\u001b[?25hInstalling collected packages: uvicorn, gunicorn, graphql-core, starlette, graphql-relay, docker, alembic, graphene, fastapi, databricks-sdk, mlflow-skinny, mlflow\n",
            "Successfully installed alembic-1.15.2 databricks-sdk-0.50.0 docker-7.1.0 fastapi-0.115.12 graphene-3.4.3 graphql-core-3.2.6 graphql-relay-3.2.0 gunicorn-23.0.0 mlflow-2.22.0 mlflow-skinny-2.22.0 starlette-0.46.2 uvicorn-0.34.2\n"
          ]
        }
      ]
    },
    {
      "cell_type": "code",
      "execution_count": 3,
      "metadata": {
        "id": "Qq9O5KFcXQ6-"
      },
      "outputs": [],
      "source": [
        "import pandas as pd\n",
        "import numpy as np\n",
        "import matplotlib.pyplot as plt\n",
        "import seaborn as sns\n",
        "from sklearn.preprocessing import StandardScaler, OneHotEncoder, LabelEncoder\n",
        "from sklearn.impute import KNNImputer, SimpleImputer\n",
        "from sklearn.compose import ColumnTransformer\n",
        "from sklearn.pipeline import Pipeline\n",
        "from sklearn.decomposition import PCA\n",
        "from datetime import datetime\n",
        "import tensorflow as tf\n",
        "import mlflow\n",
        "import mlflow.sklearn"
      ]
    },
    {
      "cell_type": "code",
      "source": [
        "mlflow.start_run(run_name=\"kickstarter_feature_engineering_fixed\")"
      ],
      "metadata": {
        "colab": {
          "base_uri": "https://localhost:8080/"
        },
        "id": "0Qov9SydXSdE",
        "outputId": "f2f52296-8722-4ac2-b6ad-f757365efe93"
      },
      "execution_count": 4,
      "outputs": [
        {
          "output_type": "execute_result",
          "data": {
            "text/plain": [
              "<ActiveRun: >"
            ]
          },
          "metadata": {},
          "execution_count": 4
        }
      ]
    },
    {
      "cell_type": "code",
      "source": [
        "from google.colab import files\n",
        "uploaded = files.upload()"
      ],
      "metadata": {
        "colab": {
          "base_uri": "https://localhost:8080/",
          "height": 73
        },
        "id": "Yp1fsVfBXVpE",
        "outputId": "abc8f877-f921-4684-de3c-1efe9e88fa68"
      },
      "execution_count": 5,
      "outputs": [
        {
          "output_type": "display_data",
          "data": {
            "text/plain": [
              "<IPython.core.display.HTML object>"
            ],
            "text/html": [
              "\n",
              "     <input type=\"file\" id=\"files-5a4df236-e073-4e0c-900b-845e78cb895c\" name=\"files[]\" multiple disabled\n",
              "        style=\"border:none\" />\n",
              "     <output id=\"result-5a4df236-e073-4e0c-900b-845e78cb895c\">\n",
              "      Upload widget is only available when the cell has been executed in the\n",
              "      current browser session. Please rerun this cell to enable.\n",
              "      </output>\n",
              "      <script>// Copyright 2017 Google LLC\n",
              "//\n",
              "// Licensed under the Apache License, Version 2.0 (the \"License\");\n",
              "// you may not use this file except in compliance with the License.\n",
              "// You may obtain a copy of the License at\n",
              "//\n",
              "//      http://www.apache.org/licenses/LICENSE-2.0\n",
              "//\n",
              "// Unless required by applicable law or agreed to in writing, software\n",
              "// distributed under the License is distributed on an \"AS IS\" BASIS,\n",
              "// WITHOUT WARRANTIES OR CONDITIONS OF ANY KIND, either express or implied.\n",
              "// See the License for the specific language governing permissions and\n",
              "// limitations under the License.\n",
              "\n",
              "/**\n",
              " * @fileoverview Helpers for google.colab Python module.\n",
              " */\n",
              "(function(scope) {\n",
              "function span(text, styleAttributes = {}) {\n",
              "  const element = document.createElement('span');\n",
              "  element.textContent = text;\n",
              "  for (const key of Object.keys(styleAttributes)) {\n",
              "    element.style[key] = styleAttributes[key];\n",
              "  }\n",
              "  return element;\n",
              "}\n",
              "\n",
              "// Max number of bytes which will be uploaded at a time.\n",
              "const MAX_PAYLOAD_SIZE = 100 * 1024;\n",
              "\n",
              "function _uploadFiles(inputId, outputId) {\n",
              "  const steps = uploadFilesStep(inputId, outputId);\n",
              "  const outputElement = document.getElementById(outputId);\n",
              "  // Cache steps on the outputElement to make it available for the next call\n",
              "  // to uploadFilesContinue from Python.\n",
              "  outputElement.steps = steps;\n",
              "\n",
              "  return _uploadFilesContinue(outputId);\n",
              "}\n",
              "\n",
              "// This is roughly an async generator (not supported in the browser yet),\n",
              "// where there are multiple asynchronous steps and the Python side is going\n",
              "// to poll for completion of each step.\n",
              "// This uses a Promise to block the python side on completion of each step,\n",
              "// then passes the result of the previous step as the input to the next step.\n",
              "function _uploadFilesContinue(outputId) {\n",
              "  const outputElement = document.getElementById(outputId);\n",
              "  const steps = outputElement.steps;\n",
              "\n",
              "  const next = steps.next(outputElement.lastPromiseValue);\n",
              "  return Promise.resolve(next.value.promise).then((value) => {\n",
              "    // Cache the last promise value to make it available to the next\n",
              "    // step of the generator.\n",
              "    outputElement.lastPromiseValue = value;\n",
              "    return next.value.response;\n",
              "  });\n",
              "}\n",
              "\n",
              "/**\n",
              " * Generator function which is called between each async step of the upload\n",
              " * process.\n",
              " * @param {string} inputId Element ID of the input file picker element.\n",
              " * @param {string} outputId Element ID of the output display.\n",
              " * @return {!Iterable<!Object>} Iterable of next steps.\n",
              " */\n",
              "function* uploadFilesStep(inputId, outputId) {\n",
              "  const inputElement = document.getElementById(inputId);\n",
              "  inputElement.disabled = false;\n",
              "\n",
              "  const outputElement = document.getElementById(outputId);\n",
              "  outputElement.innerHTML = '';\n",
              "\n",
              "  const pickedPromise = new Promise((resolve) => {\n",
              "    inputElement.addEventListener('change', (e) => {\n",
              "      resolve(e.target.files);\n",
              "    });\n",
              "  });\n",
              "\n",
              "  const cancel = document.createElement('button');\n",
              "  inputElement.parentElement.appendChild(cancel);\n",
              "  cancel.textContent = 'Cancel upload';\n",
              "  const cancelPromise = new Promise((resolve) => {\n",
              "    cancel.onclick = () => {\n",
              "      resolve(null);\n",
              "    };\n",
              "  });\n",
              "\n",
              "  // Wait for the user to pick the files.\n",
              "  const files = yield {\n",
              "    promise: Promise.race([pickedPromise, cancelPromise]),\n",
              "    response: {\n",
              "      action: 'starting',\n",
              "    }\n",
              "  };\n",
              "\n",
              "  cancel.remove();\n",
              "\n",
              "  // Disable the input element since further picks are not allowed.\n",
              "  inputElement.disabled = true;\n",
              "\n",
              "  if (!files) {\n",
              "    return {\n",
              "      response: {\n",
              "        action: 'complete',\n",
              "      }\n",
              "    };\n",
              "  }\n",
              "\n",
              "  for (const file of files) {\n",
              "    const li = document.createElement('li');\n",
              "    li.append(span(file.name, {fontWeight: 'bold'}));\n",
              "    li.append(span(\n",
              "        `(${file.type || 'n/a'}) - ${file.size} bytes, ` +\n",
              "        `last modified: ${\n",
              "            file.lastModifiedDate ? file.lastModifiedDate.toLocaleDateString() :\n",
              "                                    'n/a'} - `));\n",
              "    const percent = span('0% done');\n",
              "    li.appendChild(percent);\n",
              "\n",
              "    outputElement.appendChild(li);\n",
              "\n",
              "    const fileDataPromise = new Promise((resolve) => {\n",
              "      const reader = new FileReader();\n",
              "      reader.onload = (e) => {\n",
              "        resolve(e.target.result);\n",
              "      };\n",
              "      reader.readAsArrayBuffer(file);\n",
              "    });\n",
              "    // Wait for the data to be ready.\n",
              "    let fileData = yield {\n",
              "      promise: fileDataPromise,\n",
              "      response: {\n",
              "        action: 'continue',\n",
              "      }\n",
              "    };\n",
              "\n",
              "    // Use a chunked sending to avoid message size limits. See b/62115660.\n",
              "    let position = 0;\n",
              "    do {\n",
              "      const length = Math.min(fileData.byteLength - position, MAX_PAYLOAD_SIZE);\n",
              "      const chunk = new Uint8Array(fileData, position, length);\n",
              "      position += length;\n",
              "\n",
              "      const base64 = btoa(String.fromCharCode.apply(null, chunk));\n",
              "      yield {\n",
              "        response: {\n",
              "          action: 'append',\n",
              "          file: file.name,\n",
              "          data: base64,\n",
              "        },\n",
              "      };\n",
              "\n",
              "      let percentDone = fileData.byteLength === 0 ?\n",
              "          100 :\n",
              "          Math.round((position / fileData.byteLength) * 100);\n",
              "      percent.textContent = `${percentDone}% done`;\n",
              "\n",
              "    } while (position < fileData.byteLength);\n",
              "  }\n",
              "\n",
              "  // All done.\n",
              "  yield {\n",
              "    response: {\n",
              "      action: 'complete',\n",
              "    }\n",
              "  };\n",
              "}\n",
              "\n",
              "scope.google = scope.google || {};\n",
              "scope.google.colab = scope.google.colab || {};\n",
              "scope.google.colab._files = {\n",
              "  _uploadFiles,\n",
              "  _uploadFilesContinue,\n",
              "};\n",
              "})(self);\n",
              "</script> "
            ]
          },
          "metadata": {}
        },
        {
          "output_type": "stream",
          "name": "stdout",
          "text": [
            "Saving Kickstarter.xlsx to Kickstarter.xlsx\n"
          ]
        }
      ]
    },
    {
      "cell_type": "code",
      "source": [
        "df = pd.read_excel(\"Kickstarter.xlsx\")"
      ],
      "metadata": {
        "id": "Y5xUpsXHZF8_"
      },
      "execution_count": 6,
      "outputs": []
    },
    {
      "cell_type": "code",
      "source": [
        "df = df[df['state'].isin(['successful', 'failed'])]\n",
        "df['target'] = (df['state'] == 'successful').astype(int)\n",
        "df = df.drop(columns=[\"id\", \"name\"])"
      ],
      "metadata": {
        "id": "Zzhkv-oIZIDP"
      },
      "execution_count": 7,
      "outputs": []
    },
    {
      "cell_type": "markdown",
      "source": [
        "## DATA LEAKAGE PREVENTION"
      ],
      "metadata": {
        "id": "WSbVf-dpZyUk"
      }
    },
    {
      "cell_type": "code",
      "source": [
        "# Remove features that would cause leakage (happen after campaign ends)\n",
        "leakage_features = [\n",
        "    'pledged', 'backers_count', 'usd_pledged',  # Direct leakage - only known after campaign\n",
        "    'state_changed_at', 'state_changed_at_weekday', 'state_changed_at_month',\n",
        "    'state_changed_at_day', 'state_changed_at_yr', 'state_changed_at_hr',\n",
        "    'spotlight',  # Projects get spotlighted after success\n",
        "]\n",
        "\n",
        "# Add any other leakage features\n",
        "if 'staff_pick.1' in df.columns:  # Duplicate of staff_pick\n",
        "    leakage_features.append('staff_pick.1')\n",
        "\n",
        "# Filter out features that don't exist in dataset\n",
        "features_to_remove = [feat for feat in leakage_features if feat in df.columns]\n",
        "mlflow.log_param(\"removed_leakage_features\", features_to_remove)\n",
        "\n",
        "# Remove leakage features\n",
        "df = df.drop(columns=features_to_remove, errors='ignore')"
      ],
      "metadata": {
        "id": "xYpQZMPUZwS_"
      },
      "execution_count": 8,
      "outputs": []
    },
    {
      "cell_type": "markdown",
      "source": [
        "## MISSING VALUES ANALYSIS"
      ],
      "metadata": {
        "id": "pd7I1XaiZ6K8"
      }
    },
    {
      "cell_type": "code",
      "source": [
        "# Check for missing values\n",
        "missing_vals = df.isnull().sum()\n",
        "missing_cols = missing_vals[missing_vals > 0]\n",
        "print(\"Columns with missing values:\")\n",
        "print(missing_cols)\n",
        "\n",
        "# Calculate missing percentage\n",
        "missing_percent = (df.isnull().sum() / len(df)) * 100\n",
        "print(\"\\nMissing percentage by column:\")\n",
        "print(missing_percent[missing_percent > 0])"
      ],
      "metadata": {
        "id": "RtEwCkP0Z325",
        "colab": {
          "base_uri": "https://localhost:8080/"
        },
        "outputId": "11ae29fd-11eb-457b-eda1-0a71b2709e24"
      },
      "execution_count": 9,
      "outputs": [
        {
          "output_type": "stream",
          "name": "stdout",
          "text": [
            "Columns with missing values:\n",
            "main_category    278\n",
            "dtype: int64\n",
            "\n",
            "Missing percentage by column:\n",
            "main_category    1.922146\n",
            "dtype: float64\n"
          ]
        }
      ]
    },
    {
      "cell_type": "markdown",
      "source": [
        "## MISSING VALUES IMPUTATION"
      ],
      "metadata": {
        "id": "aNMKxpIXaBMp"
      }
    },
    {
      "cell_type": "code",
      "source": [
        "# Identify columns by data type\n",
        "numeric_cols = df.select_dtypes(include=['int64', 'float64']).columns.tolist()\n",
        "categorical_cols = df.select_dtypes(include=['object', 'bool']).columns.tolist()\n",
        "datetime_cols = df.select_dtypes(include=['datetime64']).columns.tolist()\n",
        "\n",
        "# Only use numeric columns that have missing values for KNN imputation\n",
        "numeric_missing = [col for col in numeric_cols if df[col].isnull().sum() > 0]\n",
        "\n",
        "if numeric_missing:\n",
        "    # Select subset of columns for imputation\n",
        "    imputer_cols = numeric_missing + ['goal']  # Include goal as a predictor\n",
        "    imputer_data = df[imputer_cols].copy()\n",
        "\n",
        "    # Standardize before KNN imputation\n",
        "    scaler = StandardScaler()\n",
        "    imputer_data_scaled = scaler.fit_transform(imputer_data.fillna(imputer_data.median()))\n",
        "\n",
        "    # Perform KNN imputation\n",
        "    knn_imputer = KNNImputer(n_neighbors=5)\n",
        "    imputed_values = knn_imputer.fit_transform(imputer_data_scaled)\n",
        "\n",
        "    # Transform back to original scale\n",
        "    imputed_data = scaler.inverse_transform(imputed_values)\n",
        "\n",
        "    # Replace values in original dataframe\n",
        "    for i, col in enumerate(imputer_cols):\n",
        "        df[col] = imputed_data[:, i]\n",
        "\n",
        "    print(f\"Imputed {len(numeric_missing)} numeric columns with KNN\")\n",
        "else:\n",
        "    print(\"No missing values in numeric columns.\")\n",
        "\n",
        "# For categorical columns: mode imputation\n",
        "categorical_missing = [col for col in categorical_cols if df[col].isnull().sum() > 0]\n",
        "for col in categorical_missing:\n",
        "    df[col] = df[col].fillna(df[col].mode().iloc[0])\n",
        "\n",
        "# Log imputation info\n",
        "mlflow.log_param(\"missing_numeric_columns\", len(numeric_missing))\n",
        "mlflow.log_param(\"missing_categorical_columns\", len(categorical_missing))"
      ],
      "metadata": {
        "colab": {
          "base_uri": "https://localhost:8080/"
        },
        "id": "k0JcGQhAZ_Dm",
        "outputId": "d74292e5-fe9c-4176-a336-ba0a6833af54"
      },
      "execution_count": 10,
      "outputs": [
        {
          "output_type": "stream",
          "name": "stdout",
          "text": [
            "No missing values in numeric columns.\n"
          ]
        },
        {
          "output_type": "execute_result",
          "data": {
            "text/plain": [
              "1"
            ]
          },
          "metadata": {},
          "execution_count": 10
        }
      ]
    },
    {
      "cell_type": "markdown",
      "source": [
        "## TEMPORAL FEATURE ENGINEERING"
      ],
      "metadata": {
        "id": "FTKRe1AjaI7c"
      }
    },
    {
      "cell_type": "code",
      "source": [
        "# Parse datetime columns\n",
        "date_columns = ['deadline', 'created_at', 'launched_at']\n",
        "for col in date_columns:\n",
        "    if col in df.columns:\n",
        "        df[f'{col}_datetime'] = pd.to_datetime(df[col])\n",
        "\n",
        "# Calculate campaign duration (days)\n",
        "df['campaign_duration'] = (df['deadline_datetime'] - df['launched_at_datetime']).dt.total_seconds() / (60*60*24)\n",
        "print(f\"Campaign duration statistics:\\n{df['campaign_duration'].describe()}\")\n",
        "\n",
        "# Calculate preparation time (days from creation to launch)\n",
        "df['preparation_time'] = (df['launched_at_datetime'] - df['created_at_datetime']).dt.total_seconds() / (60*60*24)\n",
        "print(f\"Preparation time statistics:\\n{df['preparation_time'].describe()}\")\n",
        "\n",
        "# Extract day of week features\n",
        "for col in ['deadline', 'launched_at', 'created_at']:\n",
        "    df[f'{col}_is_weekend'] = df[f'{col}_datetime'].dt.dayofweek >= 5\n",
        "\n",
        "# Create month, day, and hour cyclic features\n",
        "for col in ['deadline', 'launched_at', 'created_at']:\n",
        "    # Month as cyclic feature (sin and cos)\n",
        "    df[f'{col}_month_sin'] = np.sin(2 * np.pi * df[f'{col}_datetime'].dt.month / 12)\n",
        "    df[f'{col}_month_cos'] = np.cos(2 * np.pi * df[f'{col}_datetime'].dt.month / 12)\n",
        "\n",
        "    # Day of month as cyclic feature\n",
        "    day_max = 31\n",
        "    df[f'{col}_day_sin'] = np.sin(2 * np.pi * df[f'{col}_datetime'].dt.day / day_max)\n",
        "    df[f'{col}_day_cos'] = np.cos(2 * np.pi * df[f'{col}_datetime'].dt.day / day_max)\n",
        "\n",
        "    # Hour as cyclic feature\n",
        "    df[f'{col}_hour_sin'] = np.sin(2 * np.pi * df[f'{col}_datetime'].dt.hour / 24)\n",
        "    df[f'{col}_hour_cos'] = np.cos(2 * np.pi * df[f'{col}_datetime'].dt.hour / 24)\n",
        "\n",
        "# Create feature for projects created and launched on the same day\n",
        "df['same_day_launch'] = (df['created_at_datetime'].dt.date == df['launched_at_datetime'].dt.date).astype(int)\n",
        "\n",
        "# Feature for ideal campaign duration (based on stats that 30-40 days is optimal)\n",
        "df['ideal_duration'] = ((df['campaign_duration'] >= 30) & (df['campaign_duration'] <= 40)).astype(int)"
      ],
      "metadata": {
        "colab": {
          "base_uri": "https://localhost:8080/"
        },
        "id": "YWWgooMhaGrm",
        "outputId": "8a65f33c-9593-434a-8356-28be628b001a"
      },
      "execution_count": 11,
      "outputs": [
        {
          "output_type": "stream",
          "name": "stdout",
          "text": [
            "Campaign duration statistics:\n",
            "count    14463.000000\n",
            "mean        33.866455\n",
            "std         12.977008\n",
            "min          1.000000\n",
            "25%         29.958333\n",
            "50%         30.000000\n",
            "75%         37.515706\n",
            "max        120.589687\n",
            "Name: campaign_duration, dtype: float64\n",
            "Preparation time statistics:\n",
            "count    14463.000000\n",
            "mean        65.812119\n",
            "std        205.073987\n",
            "min          0.007060\n",
            "25%          4.011030\n",
            "50%         13.997766\n",
            "75%         44.714010\n",
            "max       3899.575625\n",
            "Name: preparation_time, dtype: float64\n"
          ]
        }
      ]
    },
    {
      "cell_type": "markdown",
      "source": [
        "## GOAL-RELATED FEATURE ENGINEERING"
      ],
      "metadata": {
        "id": "xtziQVhZaSzD"
      }
    },
    {
      "cell_type": "code",
      "source": [
        "# Goal per day ratio\n",
        "df['goal_per_day'] = df['goal'] / df['campaign_duration']\n",
        "print(f\"Goal per day statistics:\\n{df['goal_per_day'].describe()}\")\n",
        "\n",
        "# Goal bins (logarithmic scale for better distribution)\n",
        "df['goal_log'] = np.log1p(df['goal'])  # log(1+x) to handle zeros\n",
        "\n",
        "# Goal percentiles\n",
        "goal_percentiles = [0, 10, 25, 50, 75, 90, 95, 99, 100]\n",
        "goal_bins = np.percentile(df['goal'], goal_percentiles)\n",
        "df['goal_percentile_bin'] = pd.cut(df['goal'], bins=goal_bins, labels=range(len(goal_percentiles)-1))\n",
        "\n",
        "# Create goal to static_usd_rate ratio\n",
        "if 'static_usd_rate' in df.columns:\n",
        "    df['goal_usd_adjusted'] = df['goal'] * df['static_usd_rate']"
      ],
      "metadata": {
        "colab": {
          "base_uri": "https://localhost:8080/"
        },
        "id": "Ahmg5ti4aQ-D",
        "outputId": "ac1cf502-e89c-473d-ece4-65e46be92a11"
      },
      "execution_count": 12,
      "outputs": [
        {
          "output_type": "stream",
          "name": "stdout",
          "text": [
            "Goal per day statistics:\n",
            "count    1.446300e+04\n",
            "mean     1.827807e+03\n",
            "std      3.916470e+04\n",
            "min      1.666667e-02\n",
            "25%      5.000000e+01\n",
            "50%      1.666667e+02\n",
            "75%      5.000000e+02\n",
            "max      3.125000e+06\n",
            "Name: goal_per_day, dtype: float64\n"
          ]
        }
      ]
    },
    {
      "cell_type": "markdown",
      "source": [
        "## CATEGORY AND GEOGRAPHIC FEATURE ENGINEERING"
      ],
      "metadata": {
        "id": "HMQvfcK6absV"
      }
    },
    {
      "cell_type": "code",
      "source": [
        "# Calculate success rates by category\n",
        "if 'main_category' in df.columns:\n",
        "    # We need to use cross-validation principles here to avoid data leakage\n",
        "    # For demonstration, we'll use a simple train-test split approach for target encoding\n",
        "    np.random.seed(42)\n",
        "    train_mask = np.random.rand(len(df)) < 0.8\n",
        "\n",
        "    # Calculate success rates from the training portion only\n",
        "    category_success = df[train_mask].groupby('main_category')['target'].mean().to_dict()\n",
        "\n",
        "    # Apply to all data (in real pipeline, would apply different techniques to train/test)\n",
        "    df['category_success_rate'] = df['main_category'].map(category_success)\n",
        "\n",
        "    # Fill any missing values with the global mean\n",
        "    global_success_rate = df[train_mask]['target'].mean()\n",
        "    df['category_success_rate'] = df['category_success_rate'].fillna(global_success_rate)\n",
        "\n",
        "# Sub-category success rates with same approach\n",
        "if 'category' in df.columns:\n",
        "    subcategory_success = df[train_mask].groupby('category')['target'].mean().to_dict()\n",
        "    df['subcategory_success_rate'] = df['category'].map(subcategory_success)\n",
        "    df['subcategory_success_rate'] = df['subcategory_success_rate'].fillna(global_success_rate)\n",
        "\n",
        "# Country success rates with same approach\n",
        "if 'country' in df.columns:\n",
        "    country_success = df[train_mask].groupby('country')['target'].mean().to_dict()\n",
        "    df['country_success_rate'] = df['country'].map(country_success)\n",
        "    df['country_success_rate'] = df['country_success_rate'].fillna(global_success_rate)\n",
        "\n",
        "    # Country project counts (as a proxy for platform maturity in region)\n",
        "    country_counts = df.groupby('country').size().to_dict()\n",
        "    df['country_project_count'] = df['country'].map(country_counts)\n",
        "    df['country_project_count_log'] = np.log1p(df['country_project_count'])"
      ],
      "metadata": {
        "id": "yj-B-WRhaY36"
      },
      "execution_count": 13,
      "outputs": []
    },
    {
      "cell_type": "markdown",
      "source": [
        "## TEXT-BASED FEATURE ENGINEERING"
      ],
      "metadata": {
        "id": "GmvFAaR3a2M2"
      }
    },
    {
      "cell_type": "code",
      "source": [
        "# Handle text length features if available\n",
        "if 'name_len' in df.columns and 'blurb_len' in df.columns:\n",
        "    df['name_blurb_ratio'] = df['name_len'] / df['blurb_len'].replace(0, 1)  # Avoid division by zero\n",
        "\n",
        "if 'name_len_clean' in df.columns and 'name_len' in df.columns:\n",
        "    df['name_efficiency'] = df['name_len_clean'] / df['name_len'].replace(0, 1)\n",
        "\n",
        "if 'blurb_len_clean' in df.columns and 'blurb_len' in df.columns:\n",
        "    df['blurb_efficiency'] = df['blurb_len_clean'] / df['blurb_len'].replace(0, 1)"
      ],
      "metadata": {
        "id": "h1YAPtckahIt"
      },
      "execution_count": 14,
      "outputs": []
    },
    {
      "cell_type": "markdown",
      "source": [
        "## ADVANCED ENCODING"
      ],
      "metadata": {
        "id": "41kNrGFba-fY"
      }
    },
    {
      "cell_type": "code",
      "source": [
        "# Identify categorical features for encoding - EXCLUDING 'state' (target variable)\n",
        "categorical_features = []\n",
        "for col in df.columns:\n",
        "    # Skip the target variable and any other excluded columns\n",
        "    if col == 'state' or col == 'target':\n",
        "        continue\n",
        "    if df[col].dtype == 'object' or (col.endswith('_weekday') and df[col].nunique() < 10):\n",
        "        categorical_features.append(col)\n",
        "\n",
        "print(f\"Identified {len(categorical_features)} categorical features for encoding\")\n",
        "\n",
        "# Currency is considered duplicate with country - drop if present\n",
        "if 'currency' in df.columns:\n",
        "    df = df.drop(columns=['currency'])\n",
        "    print(\"Dropped 'currency' as it's duplicate with country\")\n",
        "    # Remove from categorical features if it was added\n",
        "    if 'currency' in categorical_features:\n",
        "        categorical_features.remove('currency')\n",
        "\n",
        "# Identify low cardinality features (fewer than 10 unique values)\n",
        "low_cardinality = []\n",
        "for col in categorical_features:\n",
        "    if col in df.columns and df[col].nunique() < 10:\n",
        "        low_cardinality.append(col)\n",
        "\n",
        "print(f\"Low cardinality features for one-hot encoding: {low_cardinality}\")\n",
        "\n",
        "# Apply one-hot encoding\n",
        "for col in low_cardinality:\n",
        "    one_hot = pd.get_dummies(df[col], prefix=col, drop_first=True)\n",
        "    df = pd.concat([df, one_hot], axis=1)\n",
        "\n",
        "# Identify high cardinality features\n",
        "high_cardinality = []\n",
        "for col in categorical_features:\n",
        "    if col in df.columns and df[col].nunique() >= 10:\n",
        "        high_cardinality.append(col)\n",
        "\n",
        "print(f\"High cardinality features for target encoding: {high_cardinality}\")\n",
        "\n",
        "# Apply proper target encoding (avoiding leakage by using cross-validation)\n",
        "for col in high_cardinality:\n",
        "    # Calculate encoded value using only training data\n",
        "    global_mean = df[train_mask]['target'].mean()\n",
        "    category_means = df[train_mask].groupby(col)['target'].mean().to_dict()\n",
        "\n",
        "    # Calculate counts by category (from all data, as this isn't leaking target info)\n",
        "    category_counts = df[col].value_counts().to_dict()\n",
        "\n",
        "    # Apply smoothed target encoding\n",
        "    smoothing = 20  # Smoothing factor\n",
        "    df[f'{col}_encoded'] = df[col].map(lambda x:\n",
        "        (category_counts.get(x, 0) * category_means.get(x, global_mean) +\n",
        "         smoothing * global_mean) / (category_counts.get(x, 0) + smoothing)\n",
        "    )\n",
        "\n",
        "# Boolean features conversion\n",
        "bool_columns = df.select_dtypes(include=['bool']).columns\n",
        "for col in bool_columns:\n",
        "    df[col] = df[col].astype(int)\n",
        "\n",
        "# Label encoding for remaining categorical features\n",
        "label_encoder = LabelEncoder()\n",
        "for col in categorical_features:\n",
        "    if col in df.columns:\n",
        "        df[f'{col}_label'] = label_encoder.fit_transform(df[col])"
      ],
      "metadata": {
        "colab": {
          "base_uri": "https://localhost:8080/"
        },
        "id": "86zCl4K6a8Qh",
        "outputId": "7ed76dc2-016c-42fd-9cc0-bceb6998f1c1"
      },
      "execution_count": 15,
      "outputs": [
        {
          "output_type": "stream",
          "name": "stdout",
          "text": [
            "Identified 7 categorical features for encoding\n",
            "Dropped 'currency' as it's duplicate with country\n",
            "Low cardinality features for one-hot encoding: ['deadline_weekday', 'created_at_weekday', 'launched_at_weekday']\n",
            "High cardinality features for target encoding: ['country', 'category', 'main_category']\n"
          ]
        }
      ]
    },
    {
      "cell_type": "markdown",
      "source": [
        "## ENTITY EMBEDDING"
      ],
      "metadata": {
        "id": "DEqYx63bbLhW"
      }
    },
    {
      "cell_type": "code",
      "source": [
        "# Identify high-cardinality categorical features for entity embedding\n",
        "categorical_cols_with_label = [col for col in df.columns if col.endswith('_label')]\n",
        "\n",
        "# Only apply embeddings to features with sufficient cardinality (to avoid overfitting)\n",
        "significant_cat_cols = []\n",
        "\n",
        "for col in categorical_cols_with_label:\n",
        "    feature_name = col.replace('_label', '')\n",
        "    unique_values = df[col].nunique()\n",
        "\n",
        "    # Skip if cardinality is too low\n",
        "    if unique_values < 10:\n",
        "        print(f\"Skipping embedding for {feature_name} - cardinality too low ({unique_values})\")\n",
        "        continue\n",
        "\n",
        "    significant_cat_cols.append(col)\n",
        "\n",
        "    # Calculate embedding dimension with rule of thumb\n",
        "    embedding_dim = min(50, int(unique_values**0.5))  # Square root rule\n",
        "\n",
        "    # Create embedding model\n",
        "    embedding_model = tf.keras.Sequential([\n",
        "        tf.keras.layers.InputLayer(input_shape=(1,)),\n",
        "        tf.keras.layers.Embedding(input_dim=unique_values+1, output_dim=embedding_dim),\n",
        "        tf.keras.layers.Flatten()\n",
        "    ])\n",
        "\n",
        "    # Generate embeddings\n",
        "    embeddings = embedding_model.predict(df[col].values.reshape(-1, 1))\n",
        "\n",
        "    # Add embeddings as new features\n",
        "    for i in range(embedding_dim):\n",
        "        df[f'{feature_name}_emb_{i}'] = embeddings[:, i]\n",
        "\n",
        "    print(f\"Added {embedding_dim} embedding dimensions for {feature_name}\")\n",
        "\n",
        "mlflow.log_param(\"entity_embeddings_created\", len(significant_cat_cols))"
      ],
      "metadata": {
        "colab": {
          "base_uri": "https://localhost:8080/"
        },
        "id": "CoVQ2bTSbIkC",
        "outputId": "22fef565-9df9-4bd9-9a60-81d2a48c76c7"
      },
      "execution_count": 16,
      "outputs": [
        {
          "output_type": "stream",
          "name": "stdout",
          "text": [
            "\r\u001b[1m  1/452\u001b[0m \u001b[37m━━━━━━━━━━━━━━━━━━━━\u001b[0m \u001b[1m48s\u001b[0m 108ms/step"
          ]
        },
        {
          "output_type": "stream",
          "name": "stderr",
          "text": [
            "/usr/local/lib/python3.11/dist-packages/keras/src/layers/core/input_layer.py:27: UserWarning: Argument `input_shape` is deprecated. Use `shape` instead.\n",
            "  warnings.warn(\n"
          ]
        },
        {
          "output_type": "stream",
          "name": "stdout",
          "text": [
            "\u001b[1m452/452\u001b[0m \u001b[32m━━━━━━━━━━━━━━━━━━━━\u001b[0m\u001b[37m\u001b[0m \u001b[1m1s\u001b[0m 1ms/step  \n",
            "Added 10 embedding dimensions for country\n",
            "\u001b[1m 37/452\u001b[0m \u001b[32m━\u001b[0m\u001b[37m━━━━━━━━━━━━━━━━━━━\u001b[0m \u001b[1m0s\u001b[0m 1ms/step  "
          ]
        },
        {
          "output_type": "stream",
          "name": "stderr",
          "text": [
            "/usr/local/lib/python3.11/dist-packages/keras/src/layers/core/input_layer.py:27: UserWarning: Argument `input_shape` is deprecated. Use `shape` instead.\n",
            "  warnings.warn(\n"
          ]
        },
        {
          "output_type": "stream",
          "name": "stdout",
          "text": [
            "\u001b[1m452/452\u001b[0m \u001b[32m━━━━━━━━━━━━━━━━━━━━\u001b[0m\u001b[37m\u001b[0m \u001b[1m1s\u001b[0m 1ms/step\n",
            "Added 12 embedding dimensions for category\n",
            "Skipping embedding for deadline_weekday - cardinality too low (7)\n",
            "Skipping embedding for created_at_weekday - cardinality too low (7)\n",
            "Skipping embedding for launched_at_weekday - cardinality too low (7)\n",
            "\u001b[1m  1/452\u001b[0m \u001b[37m━━━━━━━━━━━━━━━━━━━━\u001b[0m \u001b[1m28s\u001b[0m 63ms/step"
          ]
        },
        {
          "output_type": "stream",
          "name": "stderr",
          "text": [
            "/usr/local/lib/python3.11/dist-packages/keras/src/layers/core/input_layer.py:27: UserWarning: Argument `input_shape` is deprecated. Use `shape` instead.\n",
            "  warnings.warn(\n"
          ]
        },
        {
          "output_type": "stream",
          "name": "stdout",
          "text": [
            "\u001b[1m452/452\u001b[0m \u001b[32m━━━━━━━━━━━━━━━━━━━━\u001b[0m\u001b[37m\u001b[0m \u001b[1m1s\u001b[0m 2ms/step\n",
            "Added 3 embedding dimensions for main_category\n"
          ]
        },
        {
          "output_type": "execute_result",
          "data": {
            "text/plain": [
              "3"
            ]
          },
          "metadata": {},
          "execution_count": 16
        }
      ]
    },
    {
      "cell_type": "markdown",
      "source": [
        "## DIMENSIONALITY REDUCTION"
      ],
      "metadata": {
        "id": "ZCrRfKLebXpU"
      }
    },
    {
      "cell_type": "code",
      "source": [
        "# Only use numeric features for PCA - but exclude the target\n",
        "numeric_features = df.select_dtypes(include=['int64', 'float64']).columns\n",
        "numeric_features = [col for col in numeric_features if col != 'target']\n",
        "\n",
        "if len(numeric_features) > 20:  # Only apply PCA if we have many features\n",
        "    # Standardize data\n",
        "    scaler = StandardScaler()\n",
        "    scaled_data = scaler.fit_transform(df[numeric_features])\n",
        "\n",
        "    # Apply PCA\n",
        "    pca = PCA(n_components=0.95)  # Retain 95% of variance\n",
        "    pca_result = pca.fit_transform(scaled_data)\n",
        "\n",
        "    print(f\"Original dimensions: {scaled_data.shape[1]}\")\n",
        "    print(f\"Reduced dimensions: {pca_result.shape[1]}\")\n",
        "    print(f\"Explained variance ratio: {pca.explained_variance_ratio_}\")\n",
        "\n",
        "    # Add PCA components to dataframe\n",
        "    for i in range(pca_result.shape[1]):\n",
        "        df[f'pca_component_{i}'] = pca_result[:, i]\n",
        "\n",
        "    print(f\"Added {pca_result.shape[1]} PCA components to the dataset\")\n",
        "    mlflow.log_param(\"pca_components_added\", pca_result.shape[1])\n",
        "else:\n",
        "    print(\"Fewer than 20 numeric features - skipping PCA.\")\n",
        "    mlflow.log_param(\"pca_components_added\", 0)"
      ],
      "metadata": {
        "colab": {
          "base_uri": "https://localhost:8080/"
        },
        "id": "aTdwHiABbSM_",
        "outputId": "53560385-a22d-4961-f0dc-3ccfcf163879"
      },
      "execution_count": 17,
      "outputs": [
        {
          "output_type": "stream",
          "name": "stdout",
          "text": [
            "Original dimensions: 85\n",
            "Reduced dimensions: 52\n",
            "Explained variance ratio: [0.05323518 0.04656428 0.03819956 0.03763303 0.03490149 0.03418295\n",
            " 0.03329889 0.03248909 0.03186021 0.02914676 0.02645752 0.02574018\n",
            " 0.02483863 0.02399164 0.02313667 0.02299213 0.02164685 0.02078109\n",
            " 0.02002065 0.01857607 0.01793081 0.01760079 0.01631287 0.01589931\n",
            " 0.01504599 0.01463837 0.01410845 0.01384979 0.01356584 0.01305262\n",
            " 0.01225956 0.01193863 0.01170366 0.01146821 0.01124142 0.01104853\n",
            " 0.01068101 0.01036077 0.01021516 0.01003984 0.00974218 0.00936698\n",
            " 0.00925394 0.00882453 0.00863269 0.00831987 0.00794619 0.00670628\n",
            " 0.00575707 0.00543554 0.00497688 0.00463461]\n",
            "Added 52 PCA components to the dataset\n"
          ]
        },
        {
          "output_type": "stream",
          "name": "stderr",
          "text": [
            "<ipython-input-17-1705ede2f7a4>:20: PerformanceWarning: DataFrame is highly fragmented.  This is usually the result of calling `frame.insert` many times, which has poor performance.  Consider joining all columns at once using pd.concat(axis=1) instead. To get a de-fragmented frame, use `newframe = frame.copy()`\n",
            "  df[f'pca_component_{i}'] = pca_result[:, i]\n",
            "<ipython-input-17-1705ede2f7a4>:20: PerformanceWarning: DataFrame is highly fragmented.  This is usually the result of calling `frame.insert` many times, which has poor performance.  Consider joining all columns at once using pd.concat(axis=1) instead. To get a de-fragmented frame, use `newframe = frame.copy()`\n",
            "  df[f'pca_component_{i}'] = pca_result[:, i]\n",
            "<ipython-input-17-1705ede2f7a4>:20: PerformanceWarning: DataFrame is highly fragmented.  This is usually the result of calling `frame.insert` many times, which has poor performance.  Consider joining all columns at once using pd.concat(axis=1) instead. To get a de-fragmented frame, use `newframe = frame.copy()`\n",
            "  df[f'pca_component_{i}'] = pca_result[:, i]\n",
            "<ipython-input-17-1705ede2f7a4>:20: PerformanceWarning: DataFrame is highly fragmented.  This is usually the result of calling `frame.insert` many times, which has poor performance.  Consider joining all columns at once using pd.concat(axis=1) instead. To get a de-fragmented frame, use `newframe = frame.copy()`\n",
            "  df[f'pca_component_{i}'] = pca_result[:, i]\n",
            "<ipython-input-17-1705ede2f7a4>:20: PerformanceWarning: DataFrame is highly fragmented.  This is usually the result of calling `frame.insert` many times, which has poor performance.  Consider joining all columns at once using pd.concat(axis=1) instead. To get a de-fragmented frame, use `newframe = frame.copy()`\n",
            "  df[f'pca_component_{i}'] = pca_result[:, i]\n",
            "<ipython-input-17-1705ede2f7a4>:20: PerformanceWarning: DataFrame is highly fragmented.  This is usually the result of calling `frame.insert` many times, which has poor performance.  Consider joining all columns at once using pd.concat(axis=1) instead. To get a de-fragmented frame, use `newframe = frame.copy()`\n",
            "  df[f'pca_component_{i}'] = pca_result[:, i]\n",
            "<ipython-input-17-1705ede2f7a4>:20: PerformanceWarning: DataFrame is highly fragmented.  This is usually the result of calling `frame.insert` many times, which has poor performance.  Consider joining all columns at once using pd.concat(axis=1) instead. To get a de-fragmented frame, use `newframe = frame.copy()`\n",
            "  df[f'pca_component_{i}'] = pca_result[:, i]\n",
            "<ipython-input-17-1705ede2f7a4>:20: PerformanceWarning: DataFrame is highly fragmented.  This is usually the result of calling `frame.insert` many times, which has poor performance.  Consider joining all columns at once using pd.concat(axis=1) instead. To get a de-fragmented frame, use `newframe = frame.copy()`\n",
            "  df[f'pca_component_{i}'] = pca_result[:, i]\n",
            "<ipython-input-17-1705ede2f7a4>:20: PerformanceWarning: DataFrame is highly fragmented.  This is usually the result of calling `frame.insert` many times, which has poor performance.  Consider joining all columns at once using pd.concat(axis=1) instead. To get a de-fragmented frame, use `newframe = frame.copy()`\n",
            "  df[f'pca_component_{i}'] = pca_result[:, i]\n",
            "<ipython-input-17-1705ede2f7a4>:20: PerformanceWarning: DataFrame is highly fragmented.  This is usually the result of calling `frame.insert` many times, which has poor performance.  Consider joining all columns at once using pd.concat(axis=1) instead. To get a de-fragmented frame, use `newframe = frame.copy()`\n",
            "  df[f'pca_component_{i}'] = pca_result[:, i]\n",
            "<ipython-input-17-1705ede2f7a4>:20: PerformanceWarning: DataFrame is highly fragmented.  This is usually the result of calling `frame.insert` many times, which has poor performance.  Consider joining all columns at once using pd.concat(axis=1) instead. To get a de-fragmented frame, use `newframe = frame.copy()`\n",
            "  df[f'pca_component_{i}'] = pca_result[:, i]\n",
            "<ipython-input-17-1705ede2f7a4>:20: PerformanceWarning: DataFrame is highly fragmented.  This is usually the result of calling `frame.insert` many times, which has poor performance.  Consider joining all columns at once using pd.concat(axis=1) instead. To get a de-fragmented frame, use `newframe = frame.copy()`\n",
            "  df[f'pca_component_{i}'] = pca_result[:, i]\n",
            "<ipython-input-17-1705ede2f7a4>:20: PerformanceWarning: DataFrame is highly fragmented.  This is usually the result of calling `frame.insert` many times, which has poor performance.  Consider joining all columns at once using pd.concat(axis=1) instead. To get a de-fragmented frame, use `newframe = frame.copy()`\n",
            "  df[f'pca_component_{i}'] = pca_result[:, i]\n",
            "<ipython-input-17-1705ede2f7a4>:20: PerformanceWarning: DataFrame is highly fragmented.  This is usually the result of calling `frame.insert` many times, which has poor performance.  Consider joining all columns at once using pd.concat(axis=1) instead. To get a de-fragmented frame, use `newframe = frame.copy()`\n",
            "  df[f'pca_component_{i}'] = pca_result[:, i]\n",
            "<ipython-input-17-1705ede2f7a4>:20: PerformanceWarning: DataFrame is highly fragmented.  This is usually the result of calling `frame.insert` many times, which has poor performance.  Consider joining all columns at once using pd.concat(axis=1) instead. To get a de-fragmented frame, use `newframe = frame.copy()`\n",
            "  df[f'pca_component_{i}'] = pca_result[:, i]\n"
          ]
        }
      ]
    },
    {
      "cell_type": "markdown",
      "source": [
        "## FINAL CLEANUP"
      ],
      "metadata": {
        "id": "qRPux0n6beww"
      }
    },
    {
      "cell_type": "code",
      "source": [
        "# Keep original categorical columns for reference, but create a version without them\n",
        "# for models that can't handle them directly\n",
        "df_encoded = df.copy()\n",
        "\n",
        "# Remove original categorical columns in the encoded version\n",
        "categorical_cols = df_encoded.select_dtypes(include=['object']).columns.tolist()\n",
        "df_encoded = df_encoded.drop(columns=categorical_cols, errors='ignore')\n",
        "\n",
        "# Convert datetime columns to numeric (days since a reference date)\n",
        "reference_date = pd.to_datetime('2010-01-01')\n",
        "for col in df_encoded.select_dtypes(include=['datetime64']).columns:\n",
        "    df_encoded[f'{col}_days'] = (df_encoded[col] - reference_date).dt.total_seconds() / (60*60*24)\n",
        "    df_encoded = df_encoded.drop(columns=[col])\n",
        "\n",
        "# Final check for missing values\n",
        "missing_final = df_encoded.isnull().sum()\n",
        "if missing_final.sum() > 0:\n",
        "    print(\"\\nRemaining missing values:\")\n",
        "    print(missing_final[missing_final > 0])\n",
        "\n",
        "    # Fill missing values in numeric columns with median\n",
        "    numeric_columns = df_encoded.select_dtypes(include=['int64', 'float64']).columns\n",
        "    if len(numeric_columns) > 0:\n",
        "        df_encoded[numeric_columns] = df_encoded[numeric_columns].fillna(df_encoded[numeric_columns].median())\n",
        "\n",
        "    # Verify all missing values are filled\n",
        "    remaining_missing = df_encoded.isnull().sum().sum()\n",
        "    print(f\"\\nRemaining missing values after filling: {remaining_missing}\")\n",
        "else:\n",
        "    print(\"\\nNo missing values in the final dataset.\")"
      ],
      "metadata": {
        "colab": {
          "base_uri": "https://localhost:8080/"
        },
        "id": "iINSGyiRbcLH",
        "outputId": "8b6e0668-58d6-4686-d12c-44212ae8535b"
      },
      "execution_count": 18,
      "outputs": [
        {
          "output_type": "stream",
          "name": "stdout",
          "text": [
            "\n",
            "Remaining missing values:\n",
            "goal_percentile_bin    26\n",
            "dtype: int64\n",
            "\n",
            "Remaining missing values after filling: 26\n"
          ]
        }
      ]
    },
    {
      "cell_type": "markdown",
      "source": [
        "## FEATURE CORRELATION ANALYSIS"
      ],
      "metadata": {
        "id": "Cz9RW9AubtoI"
      }
    },
    {
      "cell_type": "code",
      "source": [
        "# Calculate correlations with target (useful for feature selection)\n",
        "numeric_df = df_encoded.select_dtypes(include=['int64', 'float64'])\n",
        "if 'target' in numeric_df.columns:\n",
        "    correlations = numeric_df.corr()['target'].sort_values(ascending=False)\n",
        "    print(\"\\nTop 10 positive correlations with target:\")\n",
        "    print(correlations.head(11))  # +1 because target will be first\n",
        "    print(\"\\nTop 10 negative correlations with target:\")\n",
        "    print(correlations.tail(10))\n",
        "\n",
        "    # Save correlation info for reporting\n",
        "    top_corr_positive = correlations.head(11).to_dict()\n",
        "    top_corr_negative = correlations.tail(10).to_dict()\n",
        "    mlflow.log_param(\"top_positive_correlations\", str(top_corr_positive))\n",
        "    mlflow.log_param(\"top_negative_correlations\", str(top_corr_negative))"
      ],
      "metadata": {
        "colab": {
          "base_uri": "https://localhost:8080/"
        },
        "id": "YW47kNFgbqNZ",
        "outputId": "34bbbf86-5986-4cab-f4bc-79833d20e58c"
      },
      "execution_count": 19,
      "outputs": [
        {
          "output_type": "stream",
          "name": "stdout",
          "text": [
            "\n",
            "Top 10 positive correlations with target:\n",
            "target                       1.000000\n",
            "subcategory_success_rate     0.592756\n",
            "category_encoded             0.588517\n",
            "pca_component_1              0.483093\n",
            "category_success_rate        0.304858\n",
            "main_category_encoded        0.304543\n",
            "staff_pick                   0.281067\n",
            "pca_component_2              0.230038\n",
            "launched_at_yr               0.165043\n",
            "launched_at_days             0.160799\n",
            "launched_at_datetime_days    0.160799\n",
            "Name: target, dtype: float64\n",
            "\n",
            "Top 10 negative correlations with target:\n",
            "pca_component_30        -0.090204\n",
            "pca_component_4         -0.118518\n",
            "pca_component_5         -0.124667\n",
            "launched_at_hour_cos    -0.126140\n",
            "pca_component_48        -0.135821\n",
            "category_label          -0.136741\n",
            "same_day_launch         -0.144357\n",
            "campaign_duration       -0.230113\n",
            "goal_log                -0.271310\n",
            "disable_communication         NaN\n",
            "Name: target, dtype: float64\n"
          ]
        }
      ]
    },
    {
      "cell_type": "markdown",
      "source": [
        "## SAVE PROCESSED DATA"
      ],
      "metadata": {
        "id": "bmvl_1iXcH0X"
      }
    },
    {
      "cell_type": "code",
      "source": [
        "df_encoded=df_encoded.dropna()\n",
        "df.to_csv(\"kickstarter_processed_with_categorical.csv\", index=False)\n",
        "df_encoded.to_csv(\"kickstarter_final_processed.csv\", index=False)\n",
        "\n",
        "# Log dataset information\n",
        "mlflow.log_param(\"n_rows\", df_encoded.shape[0])\n",
        "mlflow.log_param(\"n_cols\", df_encoded.shape[1])\n",
        "mlflow.log_param(\"target_balance\", df_encoded['target'].mean())\n",
        "\n",
        "# Log feature engineering metadata\n",
        "feature_metadata = {\n",
        "    \"feature_count\": df_encoded.shape[1],\n",
        "    \"numeric_features\": len(df_encoded.select_dtypes(include=['int64', 'float64']).columns),\n",
        "    \"categorical_orig_features\": len(categorical_features),\n",
        "    \"embedding_features\": len([col for col in df_encoded.columns if '_emb_' in col]),\n",
        "    \"pca_features\": len([col for col in df_encoded.columns if 'pca_component_' in col])\n",
        "}\n",
        "\n",
        "# Log metrics\n",
        "for key, value in feature_metadata.items():\n",
        "    mlflow.log_metric(key, value)\n",
        "\n",
        "# Log artifacts\n",
        "mlflow.log_artifact(\"kickstarter_final_processed.csv\")\n",
        "mlflow.log_artifact(\"kickstarter_processed_with_categorical.csv\")\n",
        "\n",
        "# End MLflow run\n",
        "mlflow.end_run()"
      ],
      "metadata": {
        "id": "IxaUca-2cI5f"
      },
      "execution_count": 20,
      "outputs": []
    },
    {
      "cell_type": "code",
      "source": [
        "from google.colab import files\n",
        "files.download('kickstarter_final_processed.csv')"
      ],
      "metadata": {
        "colab": {
          "base_uri": "https://localhost:8080/",
          "height": 17
        },
        "id": "-JzFbgpjcOF-",
        "outputId": "86618271-d913-41bd-bfb9-7a139fa97c00"
      },
      "execution_count": 21,
      "outputs": [
        {
          "output_type": "display_data",
          "data": {
            "text/plain": [
              "<IPython.core.display.Javascript object>"
            ],
            "application/javascript": [
              "\n",
              "    async function download(id, filename, size) {\n",
              "      if (!google.colab.kernel.accessAllowed) {\n",
              "        return;\n",
              "      }\n",
              "      const div = document.createElement('div');\n",
              "      const label = document.createElement('label');\n",
              "      label.textContent = `Downloading \"${filename}\": `;\n",
              "      div.appendChild(label);\n",
              "      const progress = document.createElement('progress');\n",
              "      progress.max = size;\n",
              "      div.appendChild(progress);\n",
              "      document.body.appendChild(div);\n",
              "\n",
              "      const buffers = [];\n",
              "      let downloaded = 0;\n",
              "\n",
              "      const channel = await google.colab.kernel.comms.open(id);\n",
              "      // Send a message to notify the kernel that we're ready.\n",
              "      channel.send({})\n",
              "\n",
              "      for await (const message of channel.messages) {\n",
              "        // Send a message to notify the kernel that we're ready.\n",
              "        channel.send({})\n",
              "        if (message.buffers) {\n",
              "          for (const buffer of message.buffers) {\n",
              "            buffers.push(buffer);\n",
              "            downloaded += buffer.byteLength;\n",
              "            progress.value = downloaded;\n",
              "          }\n",
              "        }\n",
              "      }\n",
              "      const blob = new Blob(buffers, {type: 'application/binary'});\n",
              "      const a = document.createElement('a');\n",
              "      a.href = window.URL.createObjectURL(blob);\n",
              "      a.download = filename;\n",
              "      div.appendChild(a);\n",
              "      a.click();\n",
              "      div.remove();\n",
              "    }\n",
              "  "
            ]
          },
          "metadata": {}
        },
        {
          "output_type": "display_data",
          "data": {
            "text/plain": [
              "<IPython.core.display.Javascript object>"
            ],
            "application/javascript": [
              "download(\"download_0054aa30-f5af-4995-82be-d625d9b5287d\", \"kickstarter_final_processed.csv\", 30983080)"
            ]
          },
          "metadata": {}
        }
      ]
    },
    {
      "cell_type": "code",
      "source": [],
      "metadata": {
        "id": "Oe1d071h49nv"
      },
      "execution_count": 21,
      "outputs": []
    }
  ]
}